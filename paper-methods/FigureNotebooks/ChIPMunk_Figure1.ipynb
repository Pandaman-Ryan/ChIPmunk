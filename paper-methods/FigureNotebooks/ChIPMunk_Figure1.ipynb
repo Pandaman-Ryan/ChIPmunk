{
 "cells": [
  {
   "cell_type": "code",
   "execution_count": 1,
   "metadata": {
    "collapsed": false
   },
   "outputs": [
    {
     "name": "stdout",
     "output_type": "stream",
     "text": [
      "Populating the interactive namespace from numpy and matplotlib\n"
     ]
    }
   ],
   "source": [
    "%pylab inline\n",
    "import pandas as pd\n",
    "import os\n",
    "import scipy.stats\n",
    "\n",
    "import matplotlib\n",
    "matplotlib.rcParams['pdf.fonttype'] = 42\n",
    "matplotlib.rcParams['ps.fonttype'] = 42\n",
    "\n",
    "# Paths\n",
    "DATADIR=\"/storage/mgymrek/chipmunk_round2/fig1_eval\"\n",
    "OUTDIR=os.path.join(DATADIR, \"pdfs\")\n",
    "\n",
    "FIG1COLOR = \"darkblue\"\n",
    "FITCOLOR = \"red\""
   ]
  },
  {
   "cell_type": "markdown",
   "metadata": {},
   "source": [
    "# Fragment length distribution examples"
   ]
  },
  {
   "cell_type": "markdown",
   "metadata": {},
   "source": [
    "## Figure 1B"
   ]
  },
  {
   "cell_type": "code",
   "execution_count": 2,
   "metadata": {
    "collapsed": false
   },
   "outputs": [
    {
     "ename": "FileNotFoundError",
     "evalue": "[Errno 2] No such file or directory: '/storage/mgymrek/chipmunk/fig1_eval/ENCFF545HSY.bam_200_577.frags.txt'",
     "output_type": "error",
     "traceback": [
      "\u001b[0;31m---------------------------------------------------------------------------\u001b[0m",
      "\u001b[0;31mFileNotFoundError\u001b[0m                         Traceback (most recent call last)",
      "\u001b[0;32m<ipython-input-2-d72605143cc6>\u001b[0m in \u001b[0;36m<module>\u001b[0;34m()\u001b[0m\n\u001b[0;32m----> 1\u001b[0;31m \u001b[0mfrags\u001b[0m \u001b[0;34m=\u001b[0m \u001b[0;34m[\u001b[0m\u001b[0mint\u001b[0m\u001b[0;34m(\u001b[0m\u001b[0mitem\u001b[0m\u001b[0;34m.\u001b[0m\u001b[0mstrip\u001b[0m\u001b[0;34m(\u001b[0m\u001b[0;34m)\u001b[0m\u001b[0;34m)\u001b[0m \u001b[0;32mfor\u001b[0m \u001b[0mitem\u001b[0m \u001b[0;32min\u001b[0m \u001b[0mopen\u001b[0m\u001b[0;34m(\u001b[0m\u001b[0mos\u001b[0m\u001b[0;34m.\u001b[0m\u001b[0mpath\u001b[0m\u001b[0;34m.\u001b[0m\u001b[0mjoin\u001b[0m\u001b[0;34m(\u001b[0m\u001b[0mDATADIR\u001b[0m\u001b[0;34m,\u001b[0m \u001b[0;34m\"ENCFF545HSY.bam_200_577.frags.txt\"\u001b[0m\u001b[0;34m)\u001b[0m\u001b[0;34m,\u001b[0m \u001b[0;34m\"r\"\u001b[0m\u001b[0;34m)\u001b[0m\u001b[0;34m.\u001b[0m\u001b[0mreadlines\u001b[0m\u001b[0;34m(\u001b[0m\u001b[0;34m)\u001b[0m\u001b[0;34m]\u001b[0m\u001b[0;34m\u001b[0m\u001b[0m\n\u001b[0m\u001b[1;32m      2\u001b[0m \u001b[0;34m\u001b[0m\u001b[0m\n\u001b[1;32m      3\u001b[0m \u001b[0mmu\u001b[0m \u001b[0;34m=\u001b[0m \u001b[0mnp\u001b[0m\u001b[0;34m.\u001b[0m\u001b[0mmean\u001b[0m\u001b[0;34m(\u001b[0m\u001b[0mfrags\u001b[0m\u001b[0;34m)\u001b[0m\u001b[0;34m\u001b[0m\u001b[0m\n\u001b[1;32m      4\u001b[0m \u001b[0mv\u001b[0m \u001b[0;34m=\u001b[0m \u001b[0mnp\u001b[0m\u001b[0;34m.\u001b[0m\u001b[0mvar\u001b[0m\u001b[0;34m(\u001b[0m\u001b[0mfrags\u001b[0m\u001b[0;34m)\u001b[0m\u001b[0;34m\u001b[0m\u001b[0m\n\u001b[1;32m      5\u001b[0m \u001b[0mshape\u001b[0m \u001b[0;34m=\u001b[0m \u001b[0mmu\u001b[0m \u001b[0;34m*\u001b[0m \u001b[0mmu\u001b[0m \u001b[0;34m/\u001b[0m \u001b[0mv\u001b[0m\u001b[0;34m\u001b[0m\u001b[0m\n",
      "\u001b[0;31mFileNotFoundError\u001b[0m: [Errno 2] No such file or directory: '/storage/mgymrek/chipmunk/fig1_eval/ENCFF545HSY.bam_200_577.frags.txt'"
     ]
    }
   ],
   "source": [
    "frags = [int(item.strip()) for item in open(os.path.join(DATADIR, \"ENCFF545HSY.bam_200_577.frags.txt\"), \"r\").readlines()]\n",
    "\n",
    "mu = np.mean(frags)\n",
    "v = np.var(frags)\n",
    "shape = mu * mu / v\n",
    "scale = v / mu\n",
    "    \n",
    "fig = plt.figure()\n",
    "ax = fig.add_subplot(111)\n",
    "bins = np.arange(100, 500, 5)\n",
    "ax.hist(frags, bins=bins, normed=True, color=FIG1COLOR);\n",
    "ax.plot(bins, scipy.stats.gamma(shape, 0, scale).pdf(bins), color=FITCOLOR);\n",
    "ax.set_xlabel(\"Fragment length\", size=15)\n",
    "ax.set_ylabel(\"% Fragments\", size=15)\n",
    "ax.set_xticklabels([\"%0.1f\"%item for item in ax.get_xticks()], size=12)\n",
    "ax.set_yticklabels([\"%0.3f\"%item for item in ax.get_yticks()], size=12);\n",
    "ax.spines['right'].set_visible(False)\n",
    "ax.spines['top'].set_visible(False)\n",
    "ax.yaxis.set_ticks_position('left')\n",
    "ax.xaxis.set_ticks_position('bottom');\n",
    "fig.savefig(os.path.join(OUTDIR, \"Fig1_Fraglen.pdf\"))"
   ]
  },
  {
   "cell_type": "markdown",
   "metadata": {},
   "source": [
    "# Figure 1C - PCR"
   ]
  },
  {
   "cell_type": "code",
   "execution_count": null,
   "metadata": {
    "collapsed": false
   },
   "outputs": [],
   "source": [
    "#python ../../experimental/view_pcr_dist.py /storage/pandaman/project/asimon-data/ENCFF431YXJ.marked.bam\n",
    "#{1: 49516898, 2: 9968134, 3: 1900270, 4: 347474, 5: 62792, 6: 11394, 7: 2538, 8: 862, 9: 404, 10: 230, 11: 190, 12: 98, 13: 136, 14: 106, 15: 62, 16: 54, 17: 46, 18: 32, 19: 38, 20: 28, 21: 34, 22: 28, 23: 20, 24: 18, 25: 18, 26: 24, 27: 14, 28: 8, 29: 20, 30: 4, 31: 4, 32: 12, 33: 14, 34: 12, 35: 4, 36: 8, 37: 4, 38: 4, 39: 6, 40: 2, 41: 2, 42: 2, 44: 6, 46: 4, 49: 4, 50: 2, 51: 2, 52: 2, 53: 2, 59: 4, 60: 2, 62: 2, 63: 2, 64: 2, 70: 4, 91: 2, 96: 2, 97: 2, 99: 2, 127: 2, 128: 2, 130: 2, 135: 2, 139: 2, 144: 2, 154: 2, 159: 2, 160: 2, 161: 2, 540: 2, 170: 2, 187: 4, 202: 2, 209: 2, 211: 2, 217: 2, 231: 2, 241: 2, 251: 2, 254: 2, 257: 2, 260: 2, 267: 2, 270: 2, 293: 2, 303: 2, 308: 2, 315: 2, 319: 2, 327: 2, 346: 2, 391: 2, 393: 2}\n",
    "#geometric distribution parameter p: 0.802812\n",
    "\n",
    "pcr_data = {1: 49516898, 2: 9968134, 3: 1900270, 4: 347474, 5: 62792, 6: 11394, 7: 2538, 8: 862, 9: 404, 10: 230, 11: 190, 12: 98, 13: 136, 14: 106, 15: 62, 16: 54, 17: 46, 18: 32, 19: 38, 20: 28, 21: 34, 22: 28, 23: 20, 24: 18, 25: 18, 26: 24, 27: 14, 28: 8, 29: 20, 30: 4, 31: 4, 32: 12, 33: 14, 34: 12, 35: 4, 36: 8, 37: 4, 38: 4, 39: 6, 40: 2, 41: 2, 42: 2, 44: 6, 46: 4, 49: 4, 50: 2, 51: 2, 52: 2, 53: 2, 59: 4, 60: 2, 62: 2, 63: 2, 64: 2, 70: 4, 91: 2, 96: 2, 97: 2, 99: 2, 127: 2, 128: 2, 130: 2, 135: 2, 139: 2, 144: 2, 154: 2, 159: 2, 160: 2, 161: 2, 540: 2, 170: 2, 187: 4, 202: 2, 209: 2, 211: 2, 217: 2, 231: 2, 241: 2, 251: 2, 254: 2, 257: 2, 260: 2, 267: 2, 270: 2, 293: 2, 303: 2, 308: 2, 315: 2, 319: 2, 327: 2, 346: 2, 391: 2, 393: 2}\n",
    "\n",
    "p = 0.802812\n",
    "\n",
    "def GetPgeom(x, p):\n",
    "    return (1-p)**(x-1)*(p)*100\n",
    "\n",
    "xvals = [item for item in sorted(pcr_data.keys()) if item <=5]\n",
    "fig = plt.figure()\n",
    "ax = fig.add_subplot(111)\n",
    "ax.bar(xvals, [pcr_data[x]*1.0/sum(pcr_data.values())*100 for x in xvals], color=FIG1COLOR, edgecolor=\"white\")\n",
    "ax.plot(xvals, [GetPgeom(x, p) for x in xvals], color=FITCOLOR, marker=\"o\")\n",
    "ax.set_xlabel(\"# PCR duplicates\", size=15)\n",
    "ax.set_ylabel(\"% Read pairs\", size=15)\n",
    "ax.set_xticklabels([int(item) for item in ax.get_xticks()], size=12)\n",
    "ax.set_yticklabels([int(item) for item in ax.get_yticks()], size=12);\n",
    "ax.spines['right'].set_visible(False)\n",
    "ax.spines['top'].set_visible(False)\n",
    "ax.yaxis.set_ticks_position('left')\n",
    "ax.xaxis.set_ticks_position('bottom');\n",
    "fig.savefig(os.path.join(OUTDIR, \"Fig1_PCR.pdf\"))"
   ]
  },
  {
   "cell_type": "markdown",
   "metadata": {
    "collapsed": false
   },
   "source": [
    "## Supp Fig - bins"
   ]
  },
  {
   "cell_type": "code",
   "execution_count": null,
   "metadata": {
    "collapsed": false,
    "scrolled": false
   },
   "outputs": [],
   "source": [
    "factor = \"K562+SP1\"\n",
    "nc = 1000\n",
    "enc_bins = pd.read_csv(os.path.join(DATADIR, factor+\".ENCODE.cov.1kb.bed\"), usecols=[3], names=[\"enc.counts\"], sep=\"\\t\")\n",
    "sim_bins = pd.read_csv(os.path.join(DATADIR, factor+\".%s.cov.1kb.bed\"%nc), usecols=[3], names=[\"sim.counts\"], sep=\"\\t\")\n",
    "bindata = pd.DataFrame({\"enc.counts\": enc_bins[\"enc.counts\"], \"sim.counts\": sim_bins[\"sim.counts\"]})\n",
    "\n",
    "bindata = bindata[bindata[\"enc.counts\"]+bindata[\"sim.counts\"]>0]\n",
    "\n",
    "# remove outliers. kosher?\n",
    "bindata = bindata[(bindata[\"sim.counts\"]<5000) & (bindata[\"enc.counts\"]<5000)]\n",
    "\n",
    "fig = plt.figure()\n",
    "ax = fig.add_subplot(111)\n",
    "pc = 1\n",
    "ax.scatter(np.log10(bindata[\"enc.counts\"]+pc), np.log10(bindata[\"sim.counts\"]+pc), s=3, color=FIG1COLOR);\n",
    "ax.set_xlabel(\"Log10 # reads - ENCODE\", size=15)\n",
    "ax.set_ylabel(\"Log10 # reads - Sim %s\"%nc, size=15)\n",
    "ax.set_xticklabels([\"%0.1f\"%item for item in ax.get_xticks()], size=12)\n",
    "ax.set_yticklabels([\"%0.1f\"%item for item in ax.get_yticks()], size=12);\n",
    "ax.spines['right'].set_visible(False)\n",
    "ax.spines['top'].set_visible(False)\n",
    "ax.yaxis.set_ticks_position('left')\n",
    "ax.xaxis.set_ticks_position('bottom')\n",
    "print(scipy.stats.pearsonr(np.log10(bindata[\"enc.counts\"]+pc), np.log10(bindata[\"sim.counts\"]+pc)))\n",
    "print(scipy.stats.pearsonr((bindata[\"enc.counts\"]), (bindata[\"sim.counts\"])))\n",
    "bindata.apply(sum)\n",
    "fig.savefig(os.path.join(OUTDIR, \"SuppFig_BinsExample.pdf\"))"
   ]
  },
  {
   "cell_type": "code",
   "execution_count": null,
   "metadata": {
    "collapsed": false
   },
   "outputs": [],
   "source": [
    "# get corr for different cell nums\n",
    "enc_bins = pd.read_csv(os.path.join(DATADIR, factor+\".ENCODE.cov.1kb.bed\"), usecols=[3], names=[\"enc.counts\"], sep=\"\\t\")\n",
    "\n",
    "ncs = [10, 25, 50, 75, 100, 1000, 10000]\n",
    "rvals = []\n",
    "for nc in ncs:\n",
    "    sim_bins = pd.read_csv(os.path.join(DATADIR, factor+\".%s.cov.1kb.bed\"%nc), usecols=[3], names=[\"sim.counts\"], sep=\"\\t\")\n",
    "    bindata = pd.DataFrame({\"enc.counts\": enc_bins[\"enc.counts\"], \"sim.counts\": sim_bins[\"sim.counts\"]})\n",
    "\n",
    "    bindata = bindata[bindata[\"enc.counts\"]+bindata[\"sim.counts\"]>0]\n",
    "\n",
    "    # remove outliers. kosher?\n",
    "    bindata = bindata[(bindata[\"sim.counts\"]<5000) & (bindata[\"enc.counts\"]<5000)]\n",
    "\n",
    "    r = scipy.stats.pearsonr((bindata[\"enc.counts\"]), (bindata[\"sim.counts\"]))[0]\n",
    "    rvals.append(r)\n",
    "\n",
    "fig = plt.figure()\n",
    "ax = fig.add_subplot(111)\n",
    "ax.plot(np.log10(ncs), rvals, color=FIG1COLOR, marker=\"o\");\n",
    "ax.set_xlabel(\"log10 Num copies\", size=15)\n",
    "ax.set_ylabel(\"R(sim reads, real reads)\", size=15)\n",
    "ax.set_xticklabels([\"%0.2f\"%item for item in ax.get_xticks()], size=12)\n",
    "ax.set_yticklabels([\"%0.2f\"%item for item in ax.get_yticks()], size=12);\n",
    "ax.spines['right'].set_visible(False)\n",
    "ax.spines['top'].set_visible(False)\n",
    "ax.yaxis.set_ticks_position('left')\n",
    "ax.xaxis.set_ticks_position('bottom')\n",
    "fig.savefig(os.path.join(OUTDIR, \"SuppFig_BinsExample_vsNC.pdf\"))"
   ]
  }
 ],
 "metadata": {
  "kernelspec": {
   "display_name": "Python 3",
   "language": "python",
   "name": "python3"
  },
  "language_info": {
   "codemirror_mode": {
    "name": "ipython",
    "version": 3
   },
   "file_extension": ".py",
   "mimetype": "text/x-python",
   "name": "python",
   "nbconvert_exporter": "python",
   "pygments_lexer": "ipython3",
   "version": "3.4.5"
  }
 },
 "nbformat": 4,
 "nbformat_minor": 2
}
