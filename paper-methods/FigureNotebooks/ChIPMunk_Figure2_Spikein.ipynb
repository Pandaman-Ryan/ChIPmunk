{
 "cells": [
  {
   "cell_type": "code",
   "execution_count": 35,
   "metadata": {
    "collapsed": false
   },
   "outputs": [
    {
     "name": "stdout",
     "output_type": "stream",
     "text": [
      "Populating the interactive namespace from numpy and matplotlib\n"
     ]
    },
    {
     "name": "stderr",
     "output_type": "stream",
     "text": [
      "/usr/lib/python3.4/site-packages/IPython/core/magics/pylab.py:160: UserWarning: pylab import has clobbered these variables: ['colors', 'hist']\n",
      "`%matplotlib` prevents importing * from pylab and numpy\n",
      "  \"\\n`%matplotlib` prevents importing * from pylab and numpy\"\n"
     ]
    }
   ],
   "source": [
    "%pylab inline\n",
    "import pandas as pd\n",
    "import os\n",
    "import scipy.stats\n",
    "\n",
    "import matplotlib\n",
    "matplotlib.rcParams['pdf.fonttype'] = 42\n",
    "matplotlib.rcParams['ps.fonttype'] = 42\n",
    "\n",
    "# Paths\n",
    "DATADIR=\"/storage/mgymrek/chipmunk/fig2_spikein\"\n",
    "OUTDIR=os.path.join(DATADIR, \"pdfs\")\n",
    "\n",
    "FIG2COLOR = \"darkblue\""
   ]
  },
  {
   "cell_type": "code",
   "execution_count": 46,
   "metadata": {
    "collapsed": false
   },
   "outputs": [
    {
     "data": {
      "text/html": [
       "<div>\n",
       "<style scoped>\n",
       "    .dataframe tbody tr th:only-of-type {\n",
       "        vertical-align: middle;\n",
       "    }\n",
       "\n",
       "    .dataframe tbody tr th {\n",
       "        vertical-align: top;\n",
       "    }\n",
       "\n",
       "    .dataframe thead th {\n",
       "        text-align: right;\n",
       "    }\n",
       "</style>\n",
       "<table border=\"1\" class=\"dataframe\">\n",
       "  <thead>\n",
       "    <tr style=\"text-align: right;\">\n",
       "      <th></th>\n",
       "      <th>spike</th>\n",
       "      <th>reads</th>\n",
       "      <th>spikereads</th>\n",
       "      <th>targetreads</th>\n",
       "    </tr>\n",
       "  </thead>\n",
       "  <tbody>\n",
       "    <tr>\n",
       "      <th>0</th>\n",
       "      <td>0.10</td>\n",
       "      <td>1010174</td>\n",
       "      <td>22058</td>\n",
       "      <td>988155</td>\n",
       "    </tr>\n",
       "    <tr>\n",
       "      <th>1</th>\n",
       "      <td>0.25</td>\n",
       "      <td>349164</td>\n",
       "      <td>13148</td>\n",
       "      <td>336029</td>\n",
       "    </tr>\n",
       "    <tr>\n",
       "      <th>2</th>\n",
       "      <td>0.50</td>\n",
       "      <td>350168</td>\n",
       "      <td>12110</td>\n",
       "      <td>338071</td>\n",
       "    </tr>\n",
       "    <tr>\n",
       "      <th>3</th>\n",
       "      <td>0.80</td>\n",
       "      <td>351764</td>\n",
       "      <td>11493</td>\n",
       "      <td>340299</td>\n",
       "    </tr>\n",
       "    <tr>\n",
       "      <th>4</th>\n",
       "      <td>1.00</td>\n",
       "      <td>1009942</td>\n",
       "      <td>18746</td>\n",
       "      <td>991234</td>\n",
       "    </tr>\n",
       "  </tbody>\n",
       "</table>\n",
       "</div>"
      ],
      "text/plain": [
       "   spike    reads  spikereads  targetreads\n",
       "0   0.10  1010174       22058       988155\n",
       "1   0.25   349164       13148       336029\n",
       "2   0.50   350168       12110       338071\n",
       "3   0.80   351764       11493       340299\n",
       "4   1.00  1009942       18746       991234"
      ]
     },
     "execution_count": 46,
     "metadata": {},
     "output_type": "execute_result"
    }
   ],
   "source": [
    "# Load read counts\n",
    "rcs = pd.read_csv(os.path.join(DATADIR, \"chipmunk_spikein_readcounts.txt\"), sep=\" \", names=[\"spike\", \"reads\",\"spikereads\",\"targetreads\"])\n",
    "rcs"
   ]
  },
  {
   "cell_type": "code",
   "execution_count": 48,
   "metadata": {
    "collapsed": false
   },
   "outputs": [
    {
     "data": {
      "image/png": "[encoded data removed]",
      "text/plain": [
       "<Figure size 432x288 with 2 Axes>"
      ]
     },
     "metadata": {
      "needs_background": "light"
     },
     "output_type": "display_data"
    }
   ],
   "source": [
    "# Load Homer\n",
    "def ParseCol(col):\n",
    "    return \"spike-\"+col.split(\"/\")[-1].replace(\"chipmunk_spikein_\",\"\").replace(\" Coverage\",\"\").split(\"_\")[0]\n",
    "\n",
    "hist = pd.read_csv(os.path.join(DATADIR, \"spikein_histograms.txt\"), sep=\"\\t\")\n",
    "hist.columns = [\"dist\"] + list(hist.columns)[1:]\n",
    "hist = hist[[item for item in hist.columns if \"Coverage\" in item or \"dist\" in item]]\n",
    "hist.columns = [\"dist\"] + [ParseCol(col) for col in list(hist.columns)[1:]]\n",
    "\n",
    "# Normalize\n",
    "scales = [0.1, 0.25, 0.5, 0.8, 1]\n",
    "for scale in scales:\n",
    "    numreads = rcs[rcs[\"spike\"]==scale][\"targetreads\"].values[0]\n",
    "    numspike = rcs[rcs[\"spike\"]==scale][\"spikereads\"].values[0]\n",
    "    hist[\"spike-%s-RPM\"%scale] = hist[\"spike-%s\"%scale]/numreads/1000000\n",
    "    hist[\"spike-%s-RRPM\"%scale] = hist[\"spike-%s\"%scale]/numspike/numreads/1000000\n",
    "\n",
    "\n",
    "# Plot\n",
    "fig = plt.figure()\n",
    "ax = fig.add_subplot(121)\n",
    "i = 0\n",
    "colors = [\"pink\", \"gold\", \"orange\", \"red\", \"brown\"]\n",
    "for scale in scales:\n",
    "    ax.plot(hist[\"dist\"], hist[\"spike-%s-RPM\"%scale], color=colors[i])\n",
    "    i += 1\n",
    "    \n",
    "ax = fig.add_subplot(122)\n",
    "i = 0\n",
    "colors = [\"pink\", \"gold\", \"orange\", \"red\", \"brown\"]\n",
    "for scale in scales:\n",
    "    ax.plot(hist[\"dist\"], hist[\"spike-%s-RRPM\"%scale], color=colors[i])\n",
    "    i += 1\n",
    "    \n",
    "fig.tight_layout()\n",
    "#hist.head()"
   ]
  }
 ],
 "metadata": {
  "kernelspec": {
   "display_name": "Python 3",
   "language": "python",
   "name": "python3"
  },
  "language_info": {
   "codemirror_mode": {
    "name": "ipython",
    "version": 3
   },
   "file_extension": ".py",
   "mimetype": "text/x-python",
   "name": "python",
   "nbconvert_exporter": "python",
   "pygments_lexer": "ipython3",
   "version": "3.4.5"
  }
 },
 "nbformat": 4,
 "nbformat_minor": 2
}
